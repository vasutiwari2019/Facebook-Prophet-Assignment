{
 "cells": [
  {
   "cell_type": "code",
   "execution_count": 1,
   "id": "ecb8054b",
   "metadata": {},
   "outputs": [],
   "source": [
    "import pandas as pd"
   ]
  },
  {
   "cell_type": "code",
   "execution_count": 2,
   "id": "7a992611",
   "metadata": {},
   "outputs": [
    {
     "name": "stdout",
     "output_type": "stream",
     "text": [
      "Requirement already satisfied: fbprophet in c:\\users\\vtiwari2\\anaconda3\\lib\\site-packages (0.7.1)\n",
      "Requirement already satisfied: setuptools-git>=1.2 in c:\\users\\vtiwari2\\anaconda3\\lib\\site-packages (from fbprophet) (1.2)\n",
      "Requirement already satisfied: python-dateutil>=2.8.0 in c:\\users\\vtiwari2\\anaconda3\\lib\\site-packages (from fbprophet) (2.8.1)\n",
      "Requirement already satisfied: tqdm>=4.36.1 in c:\\users\\vtiwari2\\anaconda3\\lib\\site-packages (from fbprophet) (4.59.0)\n",
      "Requirement already satisfied: holidays>=0.10.2 in c:\\users\\vtiwari2\\anaconda3\\lib\\site-packages (from fbprophet) (0.11.3.1)\n",
      "Requirement already satisfied: Cython>=0.22 in c:\\users\\vtiwari2\\anaconda3\\lib\\site-packages (from fbprophet) (0.29.23)\n",
      "Requirement already satisfied: convertdate>=2.1.2 in c:\\users\\vtiwari2\\anaconda3\\lib\\site-packages (from fbprophet) (2.3.2)\n",
      "Requirement already satisfied: pandas>=1.0.4 in c:\\users\\vtiwari2\\anaconda3\\lib\\site-packages (from fbprophet) (1.2.4)\n",
      "Requirement already satisfied: numpy>=1.15.4 in c:\\users\\vtiwari2\\anaconda3\\lib\\site-packages (from fbprophet) (1.20.1)\n",
      "Requirement already satisfied: pystan>=2.14 in c:\\users\\vtiwari2\\anaconda3\\lib\\site-packages (from fbprophet) (2.19.1.1)\n",
      "Requirement already satisfied: LunarCalendar>=0.0.9 in c:\\users\\vtiwari2\\anaconda3\\lib\\site-packages (from fbprophet) (0.0.9)\n",
      "Requirement already satisfied: matplotlib>=2.0.0 in c:\\users\\vtiwari2\\anaconda3\\lib\\site-packages (from fbprophet) (3.3.4)\n",
      "Requirement already satisfied: cmdstanpy==0.9.5 in c:\\users\\vtiwari2\\anaconda3\\lib\\site-packages (from fbprophet) (0.9.5)\n",
      "Requirement already satisfied: pytz>=2014.10 in c:\\users\\vtiwari2\\anaconda3\\lib\\site-packages (from convertdate>=2.1.2->fbprophet) (2021.1)\n",
      "Requirement already satisfied: pymeeus<=1,>=0.3.13 in c:\\users\\vtiwari2\\anaconda3\\lib\\site-packages (from convertdate>=2.1.2->fbprophet) (0.5.11)\n",
      "Requirement already satisfied: hijri-converter in c:\\users\\vtiwari2\\anaconda3\\lib\\site-packages (from holidays>=0.10.2->fbprophet) (2.2.2)\n",
      "Requirement already satisfied: korean-lunar-calendar in c:\\users\\vtiwari2\\anaconda3\\lib\\site-packages (from holidays>=0.10.2->fbprophet) (0.2.1)\n",
      "Requirement already satisfied: ephem>=3.7.5.3 in c:\\users\\vtiwari2\\anaconda3\\lib\\site-packages (from LunarCalendar>=0.0.9->fbprophet) (4.1)\n",
      "Requirement already satisfied: pyparsing!=2.0.4,!=2.1.2,!=2.1.6,>=2.0.3 in c:\\users\\vtiwari2\\anaconda3\\lib\\site-packages (from matplotlib>=2.0.0->fbprophet) (2.4.7)\n",
      "Requirement already satisfied: pillow>=6.2.0 in c:\\users\\vtiwari2\\anaconda3\\lib\\site-packages (from matplotlib>=2.0.0->fbprophet) (8.2.0)\n",
      "Requirement already satisfied: kiwisolver>=1.0.1 in c:\\users\\vtiwari2\\anaconda3\\lib\\site-packages (from matplotlib>=2.0.0->fbprophet) (1.3.1)\n",
      "Requirement already satisfied: cycler>=0.10 in c:\\users\\vtiwari2\\anaconda3\\lib\\site-packages (from matplotlib>=2.0.0->fbprophet) (0.10.0)\n",
      "Requirement already satisfied: six in c:\\users\\vtiwari2\\anaconda3\\lib\\site-packages (from cycler>=0.10->matplotlib>=2.0.0->fbprophet) (1.15.0)\n",
      "Note: you may need to restart the kernel to use updated packages.\n"
     ]
    }
   ],
   "source": [
    "pip install fbprophet"
   ]
  },
  {
   "cell_type": "code",
   "execution_count": 3,
   "id": "bcd30d77",
   "metadata": {},
   "outputs": [
    {
     "name": "stderr",
     "output_type": "stream",
     "text": [
      "Importing plotly failed. Interactive plots will not work.\n"
     ]
    }
   ],
   "source": [
    "from fbprophet import Prophet"
   ]
  },
  {
   "cell_type": "code",
   "execution_count": 4,
   "id": "365e902d",
   "metadata": {},
   "outputs": [],
   "source": [
    "df = pd.read_csv('all-states-history.csv')"
   ]
  },
  {
   "cell_type": "code",
   "execution_count": 5,
   "id": "7ed221e9",
   "metadata": {},
   "outputs": [],
   "source": [
    "dp=df[df['state'] == 'NC']"
   ]
  },
  {
   "cell_type": "code",
   "execution_count": 6,
   "id": "41795aa0",
   "metadata": {},
   "outputs": [
    {
     "data": {
      "text/plain": [
       "Index(['date', 'state', 'death', 'deathConfirmed', 'deathIncrease',\n",
       "       'deathProbable', 'hospitalized', 'hospitalizedCumulative',\n",
       "       'hospitalizedCurrently', 'hospitalizedIncrease', 'inIcuCumulative',\n",
       "       'inIcuCurrently', 'negative', 'negativeIncrease',\n",
       "       'negativeTestsAntibody', 'negativeTestsPeopleAntibody',\n",
       "       'negativeTestsViral', 'onVentilatorCumulative', 'onVentilatorCurrently',\n",
       "       'positive', 'positiveCasesViral', 'positiveIncrease', 'positiveScore',\n",
       "       'positiveTestsAntibody', 'positiveTestsAntigen',\n",
       "       'positiveTestsPeopleAntibody', 'positiveTestsPeopleAntigen',\n",
       "       'positiveTestsViral', 'recovered', 'totalTestEncountersViral',\n",
       "       'totalTestEncountersViralIncrease', 'totalTestResults',\n",
       "       'totalTestResultsIncrease', 'totalTestsAntibody', 'totalTestsAntigen',\n",
       "       'totalTestsPeopleAntibody', 'totalTestsPeopleAntigen',\n",
       "       'totalTestsPeopleViral', 'totalTestsPeopleViralIncrease',\n",
       "       'totalTestsViral', 'totalTestsViralIncrease'],\n",
       "      dtype='object')"
      ]
     },
     "execution_count": 6,
     "metadata": {},
     "output_type": "execute_result"
    }
   ],
   "source": [
    "dp.columns"
   ]
  },
  {
   "cell_type": "code",
   "execution_count": 7,
   "id": "7348acd2",
   "metadata": {},
   "outputs": [
    {
     "name": "stderr",
     "output_type": "stream",
     "text": [
      "C:\\Users\\vtiwari2\\Anaconda3\\lib\\site-packages\\pandas\\core\\frame.py:4308: SettingWithCopyWarning: \n",
      "A value is trying to be set on a copy of a slice from a DataFrame\n",
      "\n",
      "See the caveats in the documentation: https://pandas.pydata.org/pandas-docs/stable/user_guide/indexing.html#returning-a-view-versus-a-copy\n",
      "  return super().drop(\n"
     ]
    }
   ],
   "source": [
    "dp.drop(['death', 'deathConfirmed', 'deathIncrease',\n",
    "       'deathProbable', 'hospitalized', 'hospitalizedCumulative',\n",
    "       'hospitalizedCurrently', 'hospitalizedIncrease', 'inIcuCumulative',\n",
    "       'inIcuCurrently', 'negative', 'negativeIncrease',\n",
    "       'negativeTestsAntibody', 'negativeTestsPeopleAntibody',\n",
    "       'negativeTestsViral', 'onVentilatorCumulative', 'onVentilatorCurrently',\n",
    "       'positiveCasesViral', 'positiveIncrease', 'positiveScore',\n",
    "       'positiveTestsAntibody', 'positiveTestsAntigen',\n",
    "       'positiveTestsPeopleAntibody', 'positiveTestsPeopleAntigen',\n",
    "       'positiveTestsViral', 'recovered', 'totalTestEncountersViral',\n",
    "       'totalTestEncountersViralIncrease', 'totalTestResults',\n",
    "       'totalTestResultsIncrease', 'totalTestsAntibody', 'totalTestsAntigen',\n",
    "       'totalTestsPeopleAntibody', 'totalTestsPeopleAntigen',\n",
    "       'totalTestsPeopleViral', 'totalTestsPeopleViralIncrease',\n",
    "       'totalTestsViral', 'totalTestsViralIncrease'], axis=1, inplace=True)"
   ]
  },
  {
   "cell_type": "code",
   "execution_count": 8,
   "id": "74d8ccdb",
   "metadata": {},
   "outputs": [],
   "source": [
    "dp.drop(['state'],axis=1, inplace=True)"
   ]
  },
  {
   "cell_type": "code",
   "execution_count": 9,
   "id": "4b138c9c",
   "metadata": {},
   "outputs": [
    {
     "data": {
      "text/plain": [
       "date         object\n",
       "positive    float64\n",
       "dtype: object"
      ]
     },
     "execution_count": 9,
     "metadata": {},
     "output_type": "execute_result"
    }
   ],
   "source": [
    "dp.dtypes"
   ]
  },
  {
   "cell_type": "code",
   "execution_count": 10,
   "id": "8bbda942",
   "metadata": {},
   "outputs": [
    {
     "name": "stderr",
     "output_type": "stream",
     "text": [
      "<ipython-input-10-94b4e48c371a>:1: SettingWithCopyWarning: \n",
      "A value is trying to be set on a copy of a slice from a DataFrame.\n",
      "Try using .loc[row_indexer,col_indexer] = value instead\n",
      "\n",
      "See the caveats in the documentation: https://pandas.pydata.org/pandas-docs/stable/user_guide/indexing.html#returning-a-view-versus-a-copy\n",
      "  dp['date2'] = pd.DatetimeIndex(dp['date'])\n"
     ]
    }
   ],
   "source": [
    "dp['date2'] = pd.DatetimeIndex(dp['date'])"
   ]
  },
  {
   "cell_type": "code",
   "execution_count": 11,
   "id": "25f6fa5b",
   "metadata": {},
   "outputs": [],
   "source": [
    "dp.drop(['date'],axis=1, inplace=True)"
   ]
  },
  {
   "cell_type": "code",
   "execution_count": 12,
   "id": "67952bae",
   "metadata": {},
   "outputs": [
    {
     "data": {
      "text/html": [
       "<div>\n",
       "<style scoped>\n",
       "    .dataframe tbody tr th:only-of-type {\n",
       "        vertical-align: middle;\n",
       "    }\n",
       "\n",
       "    .dataframe tbody tr th {\n",
       "        vertical-align: top;\n",
       "    }\n",
       "\n",
       "    .dataframe thead th {\n",
       "        text-align: right;\n",
       "    }\n",
       "</style>\n",
       "<table border=\"1\" class=\"dataframe\">\n",
       "  <thead>\n",
       "    <tr style=\"text-align: right;\">\n",
       "      <th></th>\n",
       "      <th>y</th>\n",
       "      <th>ds</th>\n",
       "    </tr>\n",
       "  </thead>\n",
       "  <tbody>\n",
       "    <tr>\n",
       "      <th>30</th>\n",
       "      <td>872176.0</td>\n",
       "      <td>2021-03-07</td>\n",
       "    </tr>\n",
       "    <tr>\n",
       "      <th>86</th>\n",
       "      <td>872176.0</td>\n",
       "      <td>2021-03-06</td>\n",
       "    </tr>\n",
       "    <tr>\n",
       "      <th>142</th>\n",
       "      <td>870149.0</td>\n",
       "      <td>2021-03-05</td>\n",
       "    </tr>\n",
       "    <tr>\n",
       "      <th>198</th>\n",
       "      <td>868056.0</td>\n",
       "      <td>2021-03-04</td>\n",
       "    </tr>\n",
       "    <tr>\n",
       "      <th>254</th>\n",
       "      <td>865554.0</td>\n",
       "      <td>2021-03-03</td>\n",
       "    </tr>\n",
       "  </tbody>\n",
       "</table>\n",
       "</div>"
      ],
      "text/plain": [
       "            y         ds\n",
       "30   872176.0 2021-03-07\n",
       "86   872176.0 2021-03-06\n",
       "142  870149.0 2021-03-05\n",
       "198  868056.0 2021-03-04\n",
       "254  865554.0 2021-03-03"
      ]
     },
     "execution_count": 12,
     "metadata": {},
     "output_type": "execute_result"
    }
   ],
   "source": [
    "dp.columns = ['y', 'ds']\n",
    "dp.head()"
   ]
  },
  {
   "cell_type": "code",
   "execution_count": null,
   "id": "73154b75",
   "metadata": {},
   "outputs": [
    {
     "name": "stderr",
     "output_type": "stream",
     "text": [
      "INFO:numexpr.utils:NumExpr defaulting to 8 threads.\n",
      "INFO:fbprophet:Disabling yearly seasonality. Run prophet with yearly_seasonality=True to override this.\n"
     ]
    },
    {
     "ename": "KeyError",
     "evalue": "'metric_file'",
     "output_type": "error",
     "traceback": [
      "\u001b[1;31m---------------------------------------------------------------------------\u001b[0m",
      "\u001b[1;31mKeyError\u001b[0m                                  Traceback (most recent call last)",
      "\u001b[1;31mKeyError\u001b[0m: 'metric_file'"
     ]
    }
   ],
   "source": [
    "m = Prophet(interval_width=0.95, daily_seasonality=True)\n",
    "model = m.fit(dp)"
   ]
  },
  {
   "cell_type": "code",
   "execution_count": null,
   "id": "61e699e8",
   "metadata": {},
   "outputs": [],
   "source": [
    "future = m.make_future_dataframe(periods=100,freq='D')\n",
    "forecast = m.predict(future)\n",
    "forecast.head()"
   ]
  },
  {
   "cell_type": "code",
   "execution_count": null,
   "id": "72be9605",
   "metadata": {},
   "outputs": [],
   "source": [
    "plot1 = m.plot(forecast)"
   ]
  },
  {
   "cell_type": "code",
   "execution_count": null,
   "id": "f8b72ec8",
   "metadata": {},
   "outputs": [],
   "source": [
    "plt2 = m.plot_components(forecast)"
   ]
  }
 ],
 "metadata": {
  "interpreter": {
   "hash": "18d2dfe61a9bcae86edb366d4962295699f1b33de016fdf724ccc6bf0fbf8ead"
  },
  "kernelspec": {
   "display_name": "Python 3",
   "language": "python",
   "name": "python3"
  },
  "language_info": {
   "codemirror_mode": {
    "name": "ipython",
    "version": 3
   },
   "file_extension": ".py",
   "mimetype": "text/x-python",
   "name": "python",
   "nbconvert_exporter": "python",
   "pygments_lexer": "ipython3",
   "version": "3.8.8"
  }
 },
 "nbformat": 4,
 "nbformat_minor": 5
}
